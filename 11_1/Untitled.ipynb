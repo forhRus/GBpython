{
 "cells": [
  {
   "cell_type": "code",
   "execution_count": 1,
   "id": "1f77df74",
   "metadata": {},
   "outputs": [],
   "source": [
    "import pandas as pd"
   ]
  },
  {
   "cell_type": "code",
   "execution_count": 2,
   "id": "c6d4c56d",
   "metadata": {},
   "outputs": [],
   "source": [
    "df = pd.read_csv(\"california_housing_test.csv\")"
   ]
  },
  {
   "cell_type": "code",
   "execution_count": 3,
   "id": "17c5253a",
   "metadata": {},
   "outputs": [
    {
     "data": {
      "text/plain": [
       "189222.81188118813"
      ]
     },
     "execution_count": 3,
     "metadata": {},
     "output_type": "execute_result"
    }
   ],
   "source": [
    "# | Задача 40: Определить среднюю стоимость дома, \n",
    "# где кол-во людей от 0 до 500 (population)\n",
    "df[(df['population'] > 0) & (df['population'] <500)]['median_house_value'].mean()"
   ]
  },
  {
   "cell_type": "code",
   "execution_count": 4,
   "id": "9510e6d7",
   "metadata": {},
   "outputs": [
    {
     "data": {
      "text/plain": [
       "3.0"
      ]
     },
     "execution_count": 4,
     "metadata": {},
     "output_type": "execute_result"
    }
   ],
   "source": [
    "# | Задача 42: Узнать какая максимальная households в зоне \n",
    "# минимального значения population |\n",
    "df[df['population']==df['population'].min()]['households'].max()"
   ]
  },
  {
   "cell_type": "code",
   "execution_count": null,
   "id": "f9677e4a",
   "metadata": {},
   "outputs": [],
   "source": []
  }
 ],
 "metadata": {
  "kernelspec": {
   "display_name": "Python 3 (ipykernel)",
   "language": "python",
   "name": "python3"
  },
  "language_info": {
   "codemirror_mode": {
    "name": "ipython",
    "version": 3
   },
   "file_extension": ".py",
   "mimetype": "text/x-python",
   "name": "python",
   "nbconvert_exporter": "python",
   "pygments_lexer": "ipython3",
   "version": "3.10.6"
  }
 },
 "nbformat": 4,
 "nbformat_minor": 5
}
